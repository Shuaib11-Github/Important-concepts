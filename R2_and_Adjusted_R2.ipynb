{
  "nbformat": 4,
  "nbformat_minor": 0,
  "metadata": {
    "kernelspec": {
      "display_name": "Python 3",
      "language": "python",
      "name": "python3"
    },
    "language_info": {
      "codemirror_mode": {
        "name": "ipython",
        "version": 3
      },
      "file_extension": ".py",
      "mimetype": "text/x-python",
      "name": "python",
      "nbconvert_exporter": "python",
      "pygments_lexer": "ipython3",
      "version": "3.8.8"
    },
    "colab": {
      "name": "R2 and Adjusted R2.ipynb",
      "provenance": [],
      "include_colab_link": true
    }
  },
  "cells": [
    {
      "cell_type": "markdown",
      "metadata": {
        "id": "view-in-github",
        "colab_type": "text"
      },
      "source": [
        "<a href=\"https://colab.research.google.com/github/Shuaib11-Github/Important-concepts/blob/main/R2_and_Adjusted_R2.ipynb\" target=\"_parent\"><img src=\"https://colab.research.google.com/assets/colab-badge.svg\" alt=\"Open In Colab\"/></a>"
      ]
    },
    {
      "cell_type": "markdown",
      "metadata": {
        "id": "ghaOLJjnGIBR"
      },
      "source": [
        "## R2 and Adjusted R2"
      ]
    },
    {
      "cell_type": "code",
      "metadata": {
        "colab": {
          "base_uri": "https://localhost:8080/",
          "height": 359
        },
        "id": "WdPcMRIqGIBY",
        "outputId": "a84a1d91-6af9-400d-8ffa-6da8bc42bdaa"
      },
      "source": [
        "#Import necessary packages and libraries\n",
        "import numpy as np  \n",
        "import pandas as pd\n",
        "from sklearn.linear_model import LinearRegression\n",
        "#Create input data as a dictionary\n",
        "input_dict = {\n",
        "    \"PersonId\": [1,2,3,4,5,6,7,8,9,10],\n",
        "    \"Father's height\": [136.5,149.8,174.07,168.05,185.8,170.45,180.75,148.15,154.46,158.11],\n",
        "    \"Mother's height\" : [126.5,143.8,167.07,165.05,182.8,160.45,170.75,140.25,148.46,147.11],\n",
        "    \"Weight\" : [50,60,79,85,60,65,75,55,62,67],\n",
        "    \"Person's Height\":  [116.5,139.8,184.07,198.05,145.8,160.45,180.75,128.15,144.46,156.11]\n",
        "}\n",
        "#Convert dictionary into a pandas dataframe\n",
        "data = pd.DataFrame(input_dict)\n",
        "data"
      ],
      "execution_count": 1,
      "outputs": [
        {
          "output_type": "execute_result",
          "data": {
            "text/html": [
              "<div>\n",
              "<style scoped>\n",
              "    .dataframe tbody tr th:only-of-type {\n",
              "        vertical-align: middle;\n",
              "    }\n",
              "\n",
              "    .dataframe tbody tr th {\n",
              "        vertical-align: top;\n",
              "    }\n",
              "\n",
              "    .dataframe thead th {\n",
              "        text-align: right;\n",
              "    }\n",
              "</style>\n",
              "<table border=\"1\" class=\"dataframe\">\n",
              "  <thead>\n",
              "    <tr style=\"text-align: right;\">\n",
              "      <th></th>\n",
              "      <th>PersonId</th>\n",
              "      <th>Father's height</th>\n",
              "      <th>Mother's height</th>\n",
              "      <th>Weight</th>\n",
              "      <th>Person's Height</th>\n",
              "    </tr>\n",
              "  </thead>\n",
              "  <tbody>\n",
              "    <tr>\n",
              "      <th>0</th>\n",
              "      <td>1</td>\n",
              "      <td>136.50</td>\n",
              "      <td>126.50</td>\n",
              "      <td>50</td>\n",
              "      <td>116.50</td>\n",
              "    </tr>\n",
              "    <tr>\n",
              "      <th>1</th>\n",
              "      <td>2</td>\n",
              "      <td>149.80</td>\n",
              "      <td>143.80</td>\n",
              "      <td>60</td>\n",
              "      <td>139.80</td>\n",
              "    </tr>\n",
              "    <tr>\n",
              "      <th>2</th>\n",
              "      <td>3</td>\n",
              "      <td>174.07</td>\n",
              "      <td>167.07</td>\n",
              "      <td>79</td>\n",
              "      <td>184.07</td>\n",
              "    </tr>\n",
              "    <tr>\n",
              "      <th>3</th>\n",
              "      <td>4</td>\n",
              "      <td>168.05</td>\n",
              "      <td>165.05</td>\n",
              "      <td>85</td>\n",
              "      <td>198.05</td>\n",
              "    </tr>\n",
              "    <tr>\n",
              "      <th>4</th>\n",
              "      <td>5</td>\n",
              "      <td>185.80</td>\n",
              "      <td>182.80</td>\n",
              "      <td>60</td>\n",
              "      <td>145.80</td>\n",
              "    </tr>\n",
              "    <tr>\n",
              "      <th>5</th>\n",
              "      <td>6</td>\n",
              "      <td>170.45</td>\n",
              "      <td>160.45</td>\n",
              "      <td>65</td>\n",
              "      <td>160.45</td>\n",
              "    </tr>\n",
              "    <tr>\n",
              "      <th>6</th>\n",
              "      <td>7</td>\n",
              "      <td>180.75</td>\n",
              "      <td>170.75</td>\n",
              "      <td>75</td>\n",
              "      <td>180.75</td>\n",
              "    </tr>\n",
              "    <tr>\n",
              "      <th>7</th>\n",
              "      <td>8</td>\n",
              "      <td>148.15</td>\n",
              "      <td>140.25</td>\n",
              "      <td>55</td>\n",
              "      <td>128.15</td>\n",
              "    </tr>\n",
              "    <tr>\n",
              "      <th>8</th>\n",
              "      <td>9</td>\n",
              "      <td>154.46</td>\n",
              "      <td>148.46</td>\n",
              "      <td>62</td>\n",
              "      <td>144.46</td>\n",
              "    </tr>\n",
              "    <tr>\n",
              "      <th>9</th>\n",
              "      <td>10</td>\n",
              "      <td>158.11</td>\n",
              "      <td>147.11</td>\n",
              "      <td>67</td>\n",
              "      <td>156.11</td>\n",
              "    </tr>\n",
              "  </tbody>\n",
              "</table>\n",
              "</div>"
            ],
            "text/plain": [
              "   PersonId  Father's height  Mother's height  Weight  Person's Height\n",
              "0         1           136.50           126.50      50           116.50\n",
              "1         2           149.80           143.80      60           139.80\n",
              "2         3           174.07           167.07      79           184.07\n",
              "3         4           168.05           165.05      85           198.05\n",
              "4         5           185.80           182.80      60           145.80\n",
              "5         6           170.45           160.45      65           160.45\n",
              "6         7           180.75           170.75      75           180.75\n",
              "7         8           148.15           140.25      55           128.15\n",
              "8         9           154.46           148.46      62           144.46\n",
              "9        10           158.11           147.11      67           156.11"
            ]
          },
          "metadata": {
            "tags": []
          },
          "execution_count": 1
        }
      ]
    },
    {
      "cell_type": "code",
      "metadata": {
        "colab": {
          "base_uri": "https://localhost:8080/"
        },
        "id": "7P6x7GmzGIBc",
        "outputId": "0eb5e8f1-6aee-4902-9332-6872e736690f"
      },
      "source": [
        "#Split the data into train data and test data\n",
        "X_train = data.head(7)\n",
        "X_test = data.tail(3)\n",
        "#Remove UniqueId and target variable\n",
        "del X_train[\"PersonId\"]\n",
        "del X_train[\"Person's Height\"]\n",
        "#Remove UniqueId and target variable\n",
        "del X_test[\"PersonId\"]\n",
        "del X_test[\"Person's Height\"]\n",
        "y_train = data.head(7)\n",
        "y_test = data.tail(3)\n",
        "#Remove UniqueId and predictor variables\n",
        "del y_train[\"PersonId\"]\n",
        "del y_train[\"Father's height\"]\n",
        "del y_train[\"Mother's height\"]\n",
        "del y_train[\"Weight\"]\n",
        "#Remove UniqueId and predictor variables\n",
        "del y_test[\"PersonId\"]\n",
        "del y_test[\"Father's height\"]\n",
        "del y_test[\"Mother's height\"]\n",
        "del y_test[\"Weight\"]\n",
        "#Perform linear regression using sklearn library\n",
        "regressor = LinearRegression()\n",
        "regressor.fit(X_train,y_train)        \n",
        "predictions = regressor.predict(X_test)\n",
        "#sklearn's inbuilt method for computing the RSquared of the model\n",
        "rsquared = regressor.score(X_test, y_test)\n",
        "#Predictions of testdata\n",
        "print(predictions)"
      ],
      "execution_count": 2,
      "outputs": [
        {
          "output_type": "stream",
          "text": [
            "[[129.60466076]\n",
            " [145.16054727]\n",
            " [159.51764397]]\n"
          ],
          "name": "stdout"
        }
      ]
    },
    {
      "cell_type": "code",
      "metadata": {
        "colab": {
          "base_uri": "https://localhost:8080/"
        },
        "id": "Gyj9kB3uGIBf",
        "outputId": "53529d8e-5f9d-418f-effb-4c5b79833c17"
      },
      "source": [
        "#R Squared of the model\n",
        "print(rsquared)"
      ],
      "execution_count": 3,
      "outputs": [
        {
          "output_type": "stream",
          "text": [
            "0.9639573144505528\n"
          ],
          "name": "stdout"
        }
      ]
    },
    {
      "cell_type": "markdown",
      "metadata": {
        "id": "3xcD-cI9GIBh"
      },
      "source": [
        "Here, R Squared = 0.963. As per the characteristics of this metric, this looks like a very good value.\n",
        "\n",
        "\n",
        "But is it enough to confirm the confidence regarding the predictive ability of this model?\n",
        "No.\n",
        "\n",
        "\n",
        "Let’s check Adjusted R Squared also for this model-"
      ]
    },
    {
      "cell_type": "code",
      "metadata": {
        "colab": {
          "base_uri": "https://localhost:8080/"
        },
        "id": "jHoXKsf1GIBj",
        "outputId": "ae89aabf-f5af-44d1-e2bc-ed0207047228"
      },
      "source": [
        "#Adjusted RSquared of the model\n",
        "n=len(data) #number of records\n",
        "p=len(data.columns)-2 #number of features .i.e. columns excluding uniqueId and target variable\n",
        "adjr= 1-(1-rsquared)*(n-1)/(n-p-1)\n",
        "print(adjr)"
      ],
      "execution_count": 4,
      "outputs": [
        {
          "output_type": "stream",
          "text": [
            "0.9459359716758291\n"
          ],
          "name": "stdout"
        }
      ]
    },
    {
      "cell_type": "markdown",
      "metadata": {
        "id": "A69SGi2TGIBr"
      },
      "source": [
        "Oops !!! It is less than R squared. Moreover, there is a drop of around 2% in the confidence from R Squared (0.963) to Adjusted R Squared (0.945).\n",
        "\n",
        "- Why there was a drop in Adjusted R Squared?\n",
        "- What is the real intuitive meaning conveyed by this difference?\n",
        "- How it will reflect in real-time use cases?\n",
        "- Does R Squared always belong to a value between 0 and 1 or are there any exceptional cases that we often miss out?\n",
        "\n",
        "Let’s know the answers…\n",
        "\n",
        "Limitations of R Squared\n",
        "R Squared = 1 - (SSR/SST)\n",
        "\n",
        "Here, SST stands for Sum of Squared Total which is an indication of nothing but “how much do the predicted points get varies from the mean of the target variable”. Mean is nothing but a regression line here.\n",
        "SST = Sum (Square (Each data point — Mean of the target variable))\n",
        "\n",
        "Mathematically,![image.png](attachment:image.png)\n",
        "\n",
        "where,\n",
        "\n",
        "n = Number of observations.\n",
        "\n",
        "y = Observed value of the target variable.\n",
        "\n",
        "y̅ = Mean value of the target variable.\n",
        "\n",
        "For example,\n",
        "\n",
        "If we want to build a regression model to predict the height of a person with weight as the independent variable then a possible prediction without much effort is to calculate the mean height of all persons belonging to our sample and consider it as the prediction. The red line in the following diagram shows the mean value of the height of all the persons belongs to our sample.\n",
        "\n",
        "![image-2.png](attachment:image-2.png)"
      ]
    },
    {
      "cell_type": "markdown",
      "metadata": {
        "id": "WrLDqsmgGIBt"
      },
      "source": [
        "Now come to SSR,\n",
        "\n",
        "SSR stands for Sum of Squared Residuals. This residual is calculated from the model which we built from our mathematical approach (Linear regression, Bayesian regression, Polynomial regression, or any other approach). If we use a sophisticated approach rather than using a naive approach like mean then our accuracy will increase.\n",
        "SSR = Sum (Square (Each data point — Each corresponding data point in the regression line))\n",
        "\n",
        "Mathematically,![image.png](attachment:image.png)\n",
        "\n",
        "where,\n",
        "\n",
        "n = Number of observations\n",
        "\n",
        "y = Observed value of the target variable\n",
        "\n",
        "ŷ = Predicted value of the target variable\n",
        "\n",
        "![image-2.png](attachment:image-2.png)"
      ]
    },
    {
      "cell_type": "markdown",
      "metadata": {
        "id": "VnGA-8fPGIBv"
      },
      "source": [
        "In the above diagram, let’s consider that the blue line indicates the predictions from a sophisticated model with a high-level mathematical analysis. We can see that it has a higher accuracy than the red line.\n",
        "Now come to the formula,\n",
        "\n",
        "R Squared = 1- (SSR/SST)\n",
        "\n",
        "Here,\n",
        "\n",
        "SST will be a large number because it is a very poor model (red line).\n",
        "\n",
        "SSR will be a small number because it is the best model we developed after much mathematical analysis (blue line).\n",
        "\n",
        "So, SSR/SST will be a very small number (It will become very small whenever SSR decreases).\n",
        "\n",
        "So, 1- (SSR/SST) will be a large number.\n",
        "\n",
        "So we can infer that whenever R Squared goes higher, it means the model is too good.\n",
        "\n",
        "This is a generic case but this cannot be applied in many cases where multiple independent variables are present. In the example, we had only one independent variable and one target variable but in the real case, we will have 100’s of independent variables for a single dependent variable. The actual problem is that, out of 100’s of independent variables-\n",
        "\n",
        "Some variables will have a very high correlation with the target variable.\n",
        "\n",
        "Some variables will have a very small correlation with the target variable.\n",
        "\n",
        "Also, some independent variables will not correlate at all.\n",
        "\n",
        "If there is no correlation then what happens is that — **“ Our model will automatically try to establish a relationship with dependent and independent variables and proceed with mathematical calculations assuming that the researcher has already eliminated the unwanted independent variables.”**\n",
        "\n",
        "For example,\n",
        "\n",
        "For predicting the height of a person, we will have the following independent variables\n",
        "\n",
        "- Weight ( High correlation )\n",
        "\n",
        "- Phone number( No correlation )\n",
        "\n",
        "- Location ( Low correlation )\n",
        "\n",
        "- Age ( High correlation )\n",
        "\n",
        "- Gender ( Low correlation )\n",
        "\n",
        "Here, only weight and age are enough to build an accurate model but the model will assume that the phone number will also influence the height and represent it in a multidimensional space. When a regression plane is built through these 5 independent variables, **it’s gradient, intercept, cost and residual will automatically adjust to increase the accuracy.** When the accuracy gets increases artificially, obviously R squared will also increase.\n",
        "\n",
        "\n",
        "In such scenarios, the regression plane will touch all the edges of the original data points in the multidimensional space. It will make the SSR a very small number and that will eventually make the R Squared as a very high number but when test data is introduced, such models will fail miserably.\n",
        "\n",
        "\n",
        "That is the reason why a high R Squared value does not guarantee an accurate model."
      ]
    },
    {
      "cell_type": "markdown",
      "metadata": {
        "id": "STPr9VAWGIBy"
      },
      "source": [
        "### Importance of Adjusted R Squared\n",
        "\n",
        "- For overcoming the challenge mentioned above, we have an additional metric called Adjusted R Squared.\n",
        "\n",
        "- Adjusted R Squared= 1 — [ ( (1 — R Squared) * (n-1) ) / (n-p-1) ]\n",
        "\n",
        "where,\n",
        "\n",
        "p = number of independent variables.\n",
        "\n",
        "n = number of records in the data set.\n",
        "\n",
        "For a simple representation, we can rewrite the above formula like this-\n",
        "\n",
        "- Adjusted R Squared= 1 — (A * B)\n",
        "\n",
        "where,\n",
        "\n",
        "A = 1 — R Squared\n",
        "\n",
        "B = (n-1) / (n-p-1)\n",
        "\n",
        "From the above formula, we can impulsively consider the following inferences-\n",
        "\n",
        "When the number of predictor variables increases, it will decrease the whole value of B.\n",
        "\n",
        "When the value of R Squared increases, it will decrease the whole value of A.\n",
        "\n",
        "Hence technically, it penalizes the value of both A and B if either R Squared is high or the number of predictor variables is high.\n",
        "\n",
        "If we multiply both A and B then it will be a much smaller number.\n",
        "\n",
        "If we subtract the product of A and B from 1 then it will be a value definitively less than 1 unless the value of p = 1.\n",
        "\n",
        "Not only the difference between R Squared and Adjusted R squared but also the value of Adjusted R Squared itself can be considered as a goodness of fit metric replacing the limitations of R Squared for evaluating the envisage consistency of the model.\n",
        "\n",
        "In summary, whenever the number of independent variables gets increases, it will penalize the formula so that the total value will come down. It is least affected by the increase of independent variables. Hence, Adjusted R Squared will more accurately indicate the performance of the model than the R Squared."
      ]
    },
    {
      "cell_type": "code",
      "metadata": {
        "id": "LpiU6fxoGIB1"
      },
      "source": [
        ""
      ],
      "execution_count": 4,
      "outputs": []
    },
    {
      "cell_type": "markdown",
      "metadata": {
        "id": "cEf4nLmDGIB2"
      },
      "source": [
        "### Let's see an example of r2 and adj_r2 for analysis and their values with numerical values for better understanding"
      ]
    },
    {
      "cell_type": "code",
      "metadata": {
        "colab": {
          "base_uri": "https://localhost:8080/"
        },
        "id": "ZizOCYcTGIB2",
        "outputId": "0a72a07f-83f5-465e-ea3c-aea0f0e337aa"
      },
      "source": [
        "# (1 - r2) * ((n - 1)/ (n - k - 1)), where n = 100, k = 2, r2 = 0.9\n",
        "0.1 * 1.0206185567010309"
      ],
      "execution_count": 5,
      "outputs": [
        {
          "output_type": "execute_result",
          "data": {
            "text/plain": [
              "0.10206185567010309"
            ]
          },
          "metadata": {
            "tags": []
          },
          "execution_count": 5
        }
      ]
    },
    {
      "cell_type": "code",
      "metadata": {
        "colab": {
          "base_uri": "https://localhost:8080/"
        },
        "id": "ehdIaMszGIB4",
        "outputId": "fe8ad302-b279-42f0-eee4-36e667cd8883"
      },
      "source": [
        "# adj_r2 = 1 - (1 - r2) * ((n - 1)/ (n - k - 1)), where n = 100, k = 2, r2 = 0.9\n",
        "adj_r2_2f = 1 - 0.10206185567010309\n",
        "adj_r2_2f"
      ],
      "execution_count": 6,
      "outputs": [
        {
          "output_type": "execute_result",
          "data": {
            "text/plain": [
              "0.8979381443298969"
            ]
          },
          "metadata": {
            "tags": []
          },
          "execution_count": 6
        }
      ]
    },
    {
      "cell_type": "markdown",
      "metadata": {
        "id": "u7mYTfnPGIB5"
      },
      "source": [
        "### After including one more feature which is irrelevant feature we can see the r2 and adj_r2 values and check its importance"
      ]
    },
    {
      "cell_type": "code",
      "metadata": {
        "colab": {
          "base_uri": "https://localhost:8080/"
        },
        "id": "O7yzrJQjGICU",
        "outputId": "8d79edc5-d8b9-4e5a-c050-d765f0e03414"
      },
      "source": [
        "# (1 - r2) * ((n - 1)/ (n - k - 1)), where n = 100, k = 3, r2 = 0.9001\n",
        "0.09989999999999999 * 1.03125"
      ],
      "execution_count": 7,
      "outputs": [
        {
          "output_type": "execute_result",
          "data": {
            "text/plain": [
              "0.10302187499999998"
            ]
          },
          "metadata": {
            "tags": []
          },
          "execution_count": 7
        }
      ]
    },
    {
      "cell_type": "code",
      "metadata": {
        "colab": {
          "base_uri": "https://localhost:8080/"
        },
        "id": "AhBwIXh8GICV",
        "outputId": "7d9ad8d1-23db-4e8f-b79c-f7dac562fc33"
      },
      "source": [
        "# adj_r2 = 1 - (1 - r2) * ((n - 1)/ (n - k - 1)), where n = 100, k = 3, r2 = 0.9001\n",
        "adj_r2_3f = 1 - 0.10302187499999998\n",
        "adj_r2_3f"
      ],
      "execution_count": 8,
      "outputs": [
        {
          "output_type": "execute_result",
          "data": {
            "text/plain": [
              "0.896978125"
            ]
          },
          "metadata": {
            "tags": []
          },
          "execution_count": 8
        }
      ]
    },
    {
      "cell_type": "markdown",
      "metadata": {
        "id": "71ebikAAGICZ"
      },
      "source": [
        "### Can R Squared be negative?\n",
        "Yes. It can be also a negative value in some rare scenarios.\n",
        "\n",
        "Since, R squared = 1 — ( SSR / SST )\n",
        "\n",
        "It is calculated on an assumption that the average line of the target which is a perpendicular line of the y-axis is the worst fit a model can have at a maximum riskiest case. SST is the squared difference between this average line and original data points. Similarly, SSR is the squared difference between the predicted data points (by the model plane) and original data points.\n",
        "\n",
        "SSR/SST gives a ratio which indicates, **“How SSR is worst with respect to SST ? ”.** If your model can somewhat build a plane which is a comparatively good than the worst, then in 99% cases SSR< SST. It eventually makes R squared as positive if you substitute it in the equation.\n",
        "\n",
        "But what if SSR >SST? This means that your regression plane is worse than the mean line (SST). In this case, R squared will be negative. But it happens only at 1% of cases or smaller."
      ]
    },
    {
      "cell_type": "code",
      "metadata": {
        "id": "XKclJQ4TGICa"
      },
      "source": [
        ""
      ],
      "execution_count": 8,
      "outputs": []
    },
    {
      "cell_type": "code",
      "metadata": {
        "id": "EXAM-ALiGICb"
      },
      "source": [
        ""
      ],
      "execution_count": 8,
      "outputs": []
    },
    {
      "cell_type": "code",
      "metadata": {
        "id": "a4aJ55FsGICc"
      },
      "source": [
        ""
      ],
      "execution_count": null,
      "outputs": []
    }
  ]
}