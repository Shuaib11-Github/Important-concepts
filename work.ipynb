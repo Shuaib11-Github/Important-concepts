{
  "nbformat": 4,
  "nbformat_minor": 0,
  "metadata": {
    "colab": {
      "name": "Untitled18.ipynb",
      "provenance": [],
      "authorship_tag": "ABX9TyNknvHsUEm7pIhsZZg4S4cJ",
      "include_colab_link": true
    },
    "kernelspec": {
      "name": "python3",
      "display_name": "Python 3"
    },
    "language_info": {
      "name": "python"
    }
  },
  "cells": [
    {
      "cell_type": "markdown",
      "metadata": {
        "id": "view-in-github",
        "colab_type": "text"
      },
      "source": [
        "<a href=\"https://colab.research.google.com/github/Shuaib11-Github/Important-concepts/blob/main/work.ipynb\" target=\"_parent\"><img src=\"https://colab.research.google.com/assets/colab-badge.svg\" alt=\"Open In Colab\"/></a>"
      ]
    },
    {
      "cell_type": "code",
      "metadata": {
        "id": "u_2d2kokuH6s"
      },
      "source": [
        "import pandas as pd\n",
        "import numpy as np"
      ],
      "execution_count": 143,
      "outputs": []
    },
    {
      "cell_type": "code",
      "metadata": {
        "colab": {
          "base_uri": "https://localhost:8080/",
          "height": 694
        },
        "id": "47hArnqevJyf",
        "outputId": "4dd0f780-5fc0-4c09-c109-c0873990eba4"
      },
      "source": [
        "df = pd.read_csv('/content/enrollmentsNewPortal.csv')\n",
        "df"
      ],
      "execution_count": 150,
      "outputs": [
        {
          "output_type": "stream",
          "name": "stderr",
          "text": [
            "/usr/local/lib/python3.7/dist-packages/IPython/core/interactiveshell.py:2718: DtypeWarning: Columns (7,9) have mixed types.Specify dtype option on import or set low_memory=False.\n",
            "  interactivity=interactivity, compiler=compiler, result=result)\n"
          ]
        },
        {
          "output_type": "execute_result",
          "data": {
            "text/html": [
              "<div>\n",
              "<style scoped>\n",
              "    .dataframe tbody tr th:only-of-type {\n",
              "        vertical-align: middle;\n",
              "    }\n",
              "\n",
              "    .dataframe tbody tr th {\n",
              "        vertical-align: top;\n",
              "    }\n",
              "\n",
              "    .dataframe thead th {\n",
              "        text-align: right;\n",
              "    }\n",
              "</style>\n",
              "<table border=\"1\" class=\"dataframe\">\n",
              "  <thead>\n",
              "    <tr style=\"text-align: right;\">\n",
              "      <th></th>\n",
              "      <th>__v</th>\n",
              "      <th>_id</th>\n",
              "      <th>createdAt</th>\n",
              "      <th>enrollmentId</th>\n",
              "      <th>generalData.address</th>\n",
              "      <th>generalData.age</th>\n",
              "      <th>generalData.gender</th>\n",
              "      <th>generalData.mobileNumber</th>\n",
              "      <th>generalData.name</th>\n",
              "      <th>generalData.pinCode</th>\n",
              "      <th>generalData.registerBy</th>\n",
              "      <th>healthData.currentCondition</th>\n",
              "      <th>healthData.symptoms</th>\n",
              "      <th>skillData.education</th>\n",
              "      <th>skillData.preferredLocations</th>\n",
              "      <th>skillData.sectors</th>\n",
              "      <th>skillData.skills</th>\n",
              "      <th>updatedAt</th>\n",
              "    </tr>\n",
              "  </thead>\n",
              "  <tbody>\n",
              "    <tr>\n",
              "      <th>0</th>\n",
              "      <td>0.0</td>\n",
              "      <td>5edbd19f01f701000addc8a4</td>\n",
              "      <td>2020-06-06T17:25:51.349Z</td>\n",
              "      <td>4.133421e+15</td>\n",
              "      <td>BARAMUNDA, BBSR</td>\n",
              "      <td>29.0</td>\n",
              "      <td>male</td>\n",
              "      <td>9438266369</td>\n",
              "      <td>SOUMITRA BEHURA</td>\n",
              "      <td>751003</td>\n",
              "      <td>self</td>\n",
              "      <td>[]</td>\n",
              "      <td>[]</td>\n",
              "      <td>graduate</td>\n",
              "      <td>[\"bhubaneswar (odisha)\"]</td>\n",
              "      <td>[\"agriculture\"]</td>\n",
              "      <td>[\"poultry farmer\"]</td>\n",
              "      <td>2020-06-06T17:25:51.349Z</td>\n",
              "    </tr>\n",
              "    <tr>\n",
              "      <th>1</th>\n",
              "      <td>0.0</td>\n",
              "      <td>5edc6ee201f701000addc8a5</td>\n",
              "      <td>2020-06-07T04:36:50.104Z</td>\n",
              "      <td>8.388131e+15</td>\n",
              "      <td>mahadevbasta</td>\n",
              "      <td>54.0</td>\n",
              "      <td>male</td>\n",
              "      <td>9867500133</td>\n",
              "      <td>bijay sahoo</td>\n",
              "      <td>752107</td>\n",
              "      <td>self</td>\n",
              "      <td>[]</td>\n",
              "      <td>[]</td>\n",
              "      <td>graduate</td>\n",
              "      <td>[\"navi mumbai (maharashtra)\"]</td>\n",
              "      <td>[\"agriculture\"]</td>\n",
              "      <td>[\"dairy farmer\"]</td>\n",
              "      <td>2020-06-07T04:36:50.104Z</td>\n",
              "    </tr>\n",
              "    <tr>\n",
              "      <th>2</th>\n",
              "      <td>0.0</td>\n",
              "      <td>5edc751001f701000addc8a6</td>\n",
              "      <td>2020-06-07T05:03:12.878Z</td>\n",
              "      <td>2.134546e+15</td>\n",
              "      <td>At-Mendhakhai, Po-Udala\\nDist-Mayurbhanj-75704@</td>\n",
              "      <td>29.0</td>\n",
              "      <td>male</td>\n",
              "      <td>7008803424</td>\n",
              "      <td>Suvendu Nayak</td>\n",
              "      <td>757041</td>\n",
              "      <td>others</td>\n",
              "      <td>[]</td>\n",
              "      <td>[]</td>\n",
              "      <td>graduate</td>\n",
              "      <td>[\"jharsuguda (odisha)\",\"talcher (odisha)\"]</td>\n",
              "      <td>[\"manufacturing &amp; heavy engineering\",\"others\"]</td>\n",
              "      <td>[\"others\"]</td>\n",
              "      <td>2020-06-07T05:03:12.878Z</td>\n",
              "    </tr>\n",
              "    <tr>\n",
              "      <th>3</th>\n",
              "      <td>0.0</td>\n",
              "      <td>5edc8c8301f701000addc8a7</td>\n",
              "      <td>2020-06-07T06:43:15.384Z</td>\n",
              "      <td>2.167160e+15</td>\n",
              "      <td>At/Po-sarada,ps-GOP,Dist-Puri,Odisha-752111</td>\n",
              "      <td>30.0</td>\n",
              "      <td>male</td>\n",
              "      <td>9556106091</td>\n",
              "      <td>Filan kumar patra</td>\n",
              "      <td>752111</td>\n",
              "      <td>self</td>\n",
              "      <td>[]</td>\n",
              "      <td>[]</td>\n",
              "      <td>passed secondary (class 10th)</td>\n",
              "      <td>[\"navi mumbai (maharashtra)\"]</td>\n",
              "      <td>[\"construction &amp; real estate\"]</td>\n",
              "      <td>[\"welder\"]</td>\n",
              "      <td>2020-06-07T06:43:15.384Z</td>\n",
              "    </tr>\n",
              "    <tr>\n",
              "      <th>4</th>\n",
              "      <td>0.0</td>\n",
              "      <td>5edc936e01f701000addc8a8</td>\n",
              "      <td>2020-06-07T07:12:46.159Z</td>\n",
              "      <td>9.768461e+15</td>\n",
              "      <td>Bhubaneswar Odisha</td>\n",
              "      <td>30.0</td>\n",
              "      <td>male</td>\n",
              "      <td>9040186174</td>\n",
              "      <td>Santosh Kumar Patra</td>\n",
              "      <td>751030</td>\n",
              "      <td>self</td>\n",
              "      <td>[]</td>\n",
              "      <td>[]</td>\n",
              "      <td>graduate</td>\n",
              "      <td>[\"bhubaneswar (odisha)\"]</td>\n",
              "      <td>[\"banking, financial services &amp; insurance\"]</td>\n",
              "      <td>[\"accountant\"]</td>\n",
              "      <td>2020-06-07T07:12:46.159Z</td>\n",
              "    </tr>\n",
              "    <tr>\n",
              "      <th>...</th>\n",
              "      <td>...</td>\n",
              "      <td>...</td>\n",
              "      <td>...</td>\n",
              "      <td>...</td>\n",
              "      <td>...</td>\n",
              "      <td>...</td>\n",
              "      <td>...</td>\n",
              "      <td>...</td>\n",
              "      <td>...</td>\n",
              "      <td>...</td>\n",
              "      <td>...</td>\n",
              "      <td>...</td>\n",
              "      <td>...</td>\n",
              "      <td>...</td>\n",
              "      <td>...</td>\n",
              "      <td>...</td>\n",
              "      <td>...</td>\n",
              "      <td>...</td>\n",
              "    </tr>\n",
              "    <tr>\n",
              "      <th>176587</th>\n",
              "      <td>0.0</td>\n",
              "      <td>60e85b2f930fdf000a0a5ef1</td>\n",
              "      <td>2021-07-09T14:20:31.414Z</td>\n",
              "      <td>6.740014e+15</td>\n",
              "      <td>752077, khandapara, nayagarh, odisha</td>\n",
              "      <td>NaN</td>\n",
              "      <td>male</td>\n",
              "      <td>8984080775</td>\n",
              "      <td>Rajkishore Pradhan</td>\n",
              "      <td>752077</td>\n",
              "      <td>self</td>\n",
              "      <td>[]</td>\n",
              "      <td>[]</td>\n",
              "      <td>B.Tech</td>\n",
              "      <td>NaN</td>\n",
              "      <td>NaN</td>\n",
              "      <td>NaN</td>\n",
              "      <td>2021-07-09T14:24:51.980Z</td>\n",
              "    </tr>\n",
              "    <tr>\n",
              "      <th>176588</th>\n",
              "      <td>0.0</td>\n",
              "      <td>60e994e2c35f8a000a6c79b5</td>\n",
              "      <td>2021-07-10T12:38:58.155Z</td>\n",
              "      <td>9.546442e+15</td>\n",
              "      <td>NaN</td>\n",
              "      <td>NaN</td>\n",
              "      <td>NaN</td>\n",
              "      <td>9930868002</td>\n",
              "      <td>NaN</td>\n",
              "      <td>NaN</td>\n",
              "      <td>NaN</td>\n",
              "      <td>[]</td>\n",
              "      <td>[]</td>\n",
              "      <td>NaN</td>\n",
              "      <td>[]</td>\n",
              "      <td>[]</td>\n",
              "      <td>[]</td>\n",
              "      <td>2021-07-10T12:38:58.155Z</td>\n",
              "    </tr>\n",
              "    <tr>\n",
              "      <th>176589</th>\n",
              "      <td>0.0</td>\n",
              "      <td>60e9ac90a3711f000bcdfca3</td>\n",
              "      <td>2021-07-10T14:20:00.374Z</td>\n",
              "      <td>2.024812e+14</td>\n",
              "      <td>756001, balasore, baleswar, odisha</td>\n",
              "      <td>NaN</td>\n",
              "      <td>female</td>\n",
              "      <td>8114659674</td>\n",
              "      <td>Sipra Das</td>\n",
              "      <td>756001</td>\n",
              "      <td>self</td>\n",
              "      <td>[\"asthma\"]</td>\n",
              "      <td>[\"fever\"]</td>\n",
              "      <td>Diploma</td>\n",
              "      <td>NaN</td>\n",
              "      <td>[\"agriculture\"]</td>\n",
              "      <td>[\"agriculture\"]</td>\n",
              "      <td>2021-07-12T08:14:14.916Z</td>\n",
              "    </tr>\n",
              "    <tr>\n",
              "      <th>176590</th>\n",
              "      <td>0.0</td>\n",
              "      <td>60e9addaa3711f000bcdfca7</td>\n",
              "      <td>2021-07-10T14:25:30.536Z</td>\n",
              "      <td>4.296503e+15</td>\n",
              "      <td>NaN</td>\n",
              "      <td>NaN</td>\n",
              "      <td>NaN</td>\n",
              "      <td>7381122369</td>\n",
              "      <td>NaN</td>\n",
              "      <td>NaN</td>\n",
              "      <td>NaN</td>\n",
              "      <td>[]</td>\n",
              "      <td>[]</td>\n",
              "      <td>NaN</td>\n",
              "      <td>[]</td>\n",
              "      <td>[]</td>\n",
              "      <td>[]</td>\n",
              "      <td>2021-07-10T14:25:30.536Z</td>\n",
              "    </tr>\n",
              "    <tr>\n",
              "      <th>176591</th>\n",
              "      <td>0.0</td>\n",
              "      <td>60eb0e1045f09b000a7333d8</td>\n",
              "      <td>2021-07-11T15:28:16.446Z</td>\n",
              "      <td>2.084090e+15</td>\n",
              "      <td>NaN</td>\n",
              "      <td>NaN</td>\n",
              "      <td>NaN</td>\n",
              "      <td>7894335981</td>\n",
              "      <td>NaN</td>\n",
              "      <td>NaN</td>\n",
              "      <td>NaN</td>\n",
              "      <td>[]</td>\n",
              "      <td>[]</td>\n",
              "      <td>NaN</td>\n",
              "      <td>[]</td>\n",
              "      <td>[]</td>\n",
              "      <td>[]</td>\n",
              "      <td>2021-07-11T15:28:16.446Z</td>\n",
              "    </tr>\n",
              "  </tbody>\n",
              "</table>\n",
              "<p>176592 rows × 18 columns</p>\n",
              "</div>"
            ],
            "text/plain": [
              "        __v  ...                 updatedAt\n",
              "0       0.0  ...  2020-06-06T17:25:51.349Z\n",
              "1       0.0  ...  2020-06-07T04:36:50.104Z\n",
              "2       0.0  ...  2020-06-07T05:03:12.878Z\n",
              "3       0.0  ...  2020-06-07T06:43:15.384Z\n",
              "4       0.0  ...  2020-06-07T07:12:46.159Z\n",
              "...     ...  ...                       ...\n",
              "176587  0.0  ...  2021-07-09T14:24:51.980Z\n",
              "176588  0.0  ...  2021-07-10T12:38:58.155Z\n",
              "176589  0.0  ...  2021-07-12T08:14:14.916Z\n",
              "176590  0.0  ...  2021-07-10T14:25:30.536Z\n",
              "176591  0.0  ...  2021-07-11T15:28:16.446Z\n",
              "\n",
              "[176592 rows x 18 columns]"
            ]
          },
          "metadata": {},
          "execution_count": 150
        }
      ]
    },
    {
      "cell_type": "code",
      "metadata": {
        "colab": {
          "base_uri": "https://localhost:8080/"
        },
        "id": "jsCPD_0-Uab5",
        "outputId": "631db4e0-ebc4-4ed5-9975-1d80239f31ad"
      },
      "source": [
        "df['skillData.skills'].isnull().sum()"
      ],
      "execution_count": 151,
      "outputs": [
        {
          "output_type": "execute_result",
          "data": {
            "text/plain": [
              "5"
            ]
          },
          "metadata": {},
          "execution_count": 151
        }
      ]
    },
    {
      "cell_type": "code",
      "metadata": {
        "colab": {
          "base_uri": "https://localhost:8080/"
        },
        "id": "IZfHf1mQUiFo",
        "outputId": "d26f97db-bcd3-4914-a244-f44a700abdb5"
      },
      "source": [
        "sum = 0\n",
        "for i in df['skillData.skills'][df['skillData.skills'].notnull()].values:\n",
        "  if '[]' in i:\n",
        "    sum +=1\n",
        "print(sum)"
      ],
      "execution_count": 157,
      "outputs": [
        {
          "output_type": "stream",
          "name": "stdout",
          "text": [
            "6\n"
          ]
        }
      ]
    },
    {
      "cell_type": "code",
      "metadata": {
        "colab": {
          "base_uri": "https://localhost:8080/"
        },
        "id": "BWlNW6xG7alL",
        "outputId": "bca644a3-f469-4866-816a-d6d4ca40e757"
      },
      "source": [
        "df['skillData.skills'] = df['skillData.skills'].replace('[]',np.nan)\n",
        "df['skillData.skills']"
      ],
      "execution_count": 145,
      "outputs": [
        {
          "output_type": "execute_result",
          "data": {
            "text/plain": [
              "0         [\"poultry farmer\"]\n",
              "1           [\"dairy farmer\"]\n",
              "2                 [\"others\"]\n",
              "3                 [\"welder\"]\n",
              "4             [\"accountant\"]\n",
              "                 ...        \n",
              "176587                   NaN\n",
              "176588                   NaN\n",
              "176589       [\"agriculture\"]\n",
              "176590                   NaN\n",
              "176591                   NaN\n",
              "Name: skillData.skills, Length: 176592, dtype: object"
            ]
          },
          "metadata": {},
          "execution_count": 145
        }
      ]
    },
    {
      "cell_type": "code",
      "metadata": {
        "colab": {
          "base_uri": "https://localhost:8080/"
        },
        "id": "rEt9m72cRb7I",
        "outputId": "7f33a244-ddc3-47f3-a0ef-5257f25baeed"
      },
      "source": [
        "df['skillData.skills'].isnull().sum()"
      ],
      "execution_count": 146,
      "outputs": [
        {
          "output_type": "execute_result",
          "data": {
            "text/plain": [
              "11"
            ]
          },
          "metadata": {},
          "execution_count": 146
        }
      ]
    },
    {
      "cell_type": "code",
      "metadata": {
        "colab": {
          "base_uri": "https://localhost:8080/"
        },
        "id": "w6Q26JZKJe4h",
        "outputId": "16d22125-c791-4b02-c281-a775fd244846"
      },
      "source": [
        "df1 = df['skillData.skills'][df['skillData.skills'].notnull()]\n",
        "df2 = df['skillData.skills'][df['skillData.skills'].isnull()]\n",
        "df3 = pd.concat([df1,df2],ignore_index=True)\n",
        "df3"
      ],
      "execution_count": 158,
      "outputs": [
        {
          "output_type": "execute_result",
          "data": {
            "text/plain": [
              "0         [\"poultry farmer\"]\n",
              "1           [\"dairy farmer\"]\n",
              "2                 [\"others\"]\n",
              "3                 [\"welder\"]\n",
              "4             [\"accountant\"]\n",
              "                 ...        \n",
              "176587                   NaN\n",
              "176588                   NaN\n",
              "176589                   NaN\n",
              "176590                   NaN\n",
              "176591                   NaN\n",
              "Name: skillData.skills, Length: 176592, dtype: object"
            ]
          },
          "metadata": {},
          "execution_count": 158
        }
      ]
    },
    {
      "cell_type": "code",
      "metadata": {
        "id": "1S6o_kUy-mhr"
      },
      "source": [
        ""
      ],
      "execution_count": null,
      "outputs": []
    }
  ]
}